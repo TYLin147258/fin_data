{
 "cells": [
  {
   "cell_type": "code",
   "execution_count": 1,
   "id": "26b51dc3",
   "metadata": {},
   "outputs": [
    {
     "name": "stdout",
     "output_type": "stream",
     "text": [
      "Requirement already satisfied: yfinance in c:\\users\\t3y58\\anaconda3\\lib\\site-packages (0.2.38)\n",
      "Requirement already satisfied: pytz>=2022.5 in c:\\users\\t3y58\\anaconda3\\lib\\site-packages (from yfinance) (2024.1)\n",
      "Requirement already satisfied: beautifulsoup4>=4.11.1 in c:\\users\\t3y58\\anaconda3\\lib\\site-packages (from yfinance) (4.12.3)\n",
      "Requirement already satisfied: numpy>=1.16.5 in c:\\users\\t3y58\\anaconda3\\lib\\site-packages (from yfinance) (1.24.4)\n",
      "Requirement already satisfied: lxml>=4.9.1 in c:\\users\\t3y58\\anaconda3\\lib\\site-packages (from yfinance) (5.2.1)\n",
      "Requirement already satisfied: peewee>=3.16.2 in c:\\users\\t3y58\\anaconda3\\lib\\site-packages (from yfinance) (3.17.3)\n",
      "Requirement already satisfied: appdirs>=1.4.4 in c:\\users\\t3y58\\anaconda3\\lib\\site-packages (from yfinance) (1.4.4)\n",
      "Requirement already satisfied: html5lib>=1.1 in c:\\users\\t3y58\\anaconda3\\lib\\site-packages (from yfinance) (1.1)\n",
      "Requirement already satisfied: multitasking>=0.0.7 in c:\\users\\t3y58\\anaconda3\\lib\\site-packages (from yfinance) (0.0.11)\n",
      "Requirement already satisfied: requests>=2.31 in c:\\users\\t3y58\\anaconda3\\lib\\site-packages (from yfinance) (2.31.0)\n",
      "Requirement already satisfied: frozendict>=2.3.4 in c:\\users\\t3y58\\anaconda3\\lib\\site-packages (from yfinance) (2.4.2)\n",
      "Requirement already satisfied: pandas>=1.3.0 in c:\\users\\t3y58\\anaconda3\\lib\\site-packages (from yfinance) (2.0.3)\n",
      "Requirement already satisfied: soupsieve>1.2 in c:\\users\\t3y58\\anaconda3\\lib\\site-packages (from beautifulsoup4>=4.11.1->yfinance) (2.2.1)\n",
      "Requirement already satisfied: webencodings in c:\\users\\t3y58\\anaconda3\\lib\\site-packages (from html5lib>=1.1->yfinance) (0.5.1)\n",
      "Requirement already satisfied: six>=1.9 in c:\\users\\t3y58\\anaconda3\\lib\\site-packages (from html5lib>=1.1->yfinance) (1.15.0)\n",
      "Requirement already satisfied: tzdata>=2022.1 in c:\\users\\t3y58\\anaconda3\\lib\\site-packages (from pandas>=1.3.0->yfinance) (2024.1)\n",
      "Requirement already satisfied: python-dateutil>=2.8.2 in c:\\users\\t3y58\\anaconda3\\lib\\site-packages (from pandas>=1.3.0->yfinance) (2.9.0.post0)\n",
      "Requirement already satisfied: certifi>=2017.4.17 in c:\\users\\t3y58\\anaconda3\\lib\\site-packages (from requests>=2.31->yfinance) (2020.12.5)\n",
      "Requirement already satisfied: idna<4,>=2.5 in c:\\users\\t3y58\\anaconda3\\lib\\site-packages (from requests>=2.31->yfinance) (2.10)\n",
      "Requirement already satisfied: charset-normalizer<4,>=2 in c:\\users\\t3y58\\anaconda3\\lib\\site-packages (from requests>=2.31->yfinance) (3.3.2)\n",
      "Requirement already satisfied: urllib3<3,>=1.21.1 in c:\\users\\t3y58\\anaconda3\\lib\\site-packages (from requests>=2.31->yfinance) (1.26.4)\n"
     ]
    }
   ],
   "source": [
    "!pip install yfinance"
   ]
  },
  {
   "cell_type": "code",
   "execution_count": 2,
   "id": "2f9e65eb",
   "metadata": {},
   "outputs": [
    {
     "name": "stderr",
     "output_type": "stream",
     "text": [
      "[*********************100%%**********************]  1 of 1 completed\n",
      "[*********************100%%**********************]  1 of 1 completed\n",
      "[*********************100%%**********************]  1 of 1 completed\n",
      "[*********************100%%**********************]  1 of 1 completed\n",
      "[*********************100%%**********************]  1 of 1 completed\n",
      "[*********************100%%**********************]  1 of 1 completed\n",
      "[*********************100%%**********************]  1 of 1 completed\n",
      "[*********************100%%**********************]  1 of 1 completed\n",
      "[*********************100%%**********************]  1 of 1 completed\n",
      "[*********************100%%**********************]  1 of 1 completed\n"
     ]
    }
   ],
   "source": [
    "import yfinance as yf\n",
    "tsmc=yf.download(\"2330.tw\",\"2020-1-1\")\n",
    "mtk=yf.download(\"2454.tw\",\"2020-1-1\")\n",
    "honhai=yf.download(\"2317.tw\",\"2020-1-1\")\n",
    "quanta=yf.download(\"2382.tw\",\"2020-1-1\")\n",
    "delta=yf.download(\"2308.tw\",\"2020-1-1\")\n",
    "umc=yf.download(\"2303.tw\",\"2020-1-1\")\n",
    "ctbc=yf.download(\"2891.tw\",\"2020-1-1\")\n",
    "ase=yf.download(\"3711.tw\",\"2020-1-1\")\n",
    "fb=yf.download(\"2881.tw\",\"2020-1-1\")\n",
    "cht=yf.download(\"2412.tw\",\"2020-1-1\")"
   ]
  },
  {
   "cell_type": "code",
   "execution_count": 3,
   "id": "42d6d559",
   "metadata": {},
   "outputs": [],
   "source": [
    "tsmc.to_csv('2330.csv')\n",
    "mtk.to_csv('2454.csv')\n",
    "honhai.to_csv('2317.csv')\n",
    "quanta.to_csv('2382.csv')\n",
    "delta.to_csv('2308.csv')\n",
    "umc.to_csv('2303.csv')\n",
    "ctbc.to_csv('2891.csv')\n",
    "ase.to_csv('3711.csv')\n",
    "fb.to_csv('2881.csv')\n",
    "cht.to_csv('2412.csv')"
   ]
  },
  {
   "cell_type": "code",
   "execution_count": null,
   "id": "1805a3ca",
   "metadata": {},
   "outputs": [],
   "source": []
  }
 ],
 "metadata": {
  "kernelspec": {
   "display_name": "Python 3",
   "language": "python",
   "name": "python3"
  },
  "language_info": {
   "codemirror_mode": {
    "name": "ipython",
    "version": 3
   },
   "file_extension": ".py",
   "mimetype": "text/x-python",
   "name": "python",
   "nbconvert_exporter": "python",
   "pygments_lexer": "ipython3",
   "version": "3.8.8"
  }
 },
 "nbformat": 4,
 "nbformat_minor": 5
}
